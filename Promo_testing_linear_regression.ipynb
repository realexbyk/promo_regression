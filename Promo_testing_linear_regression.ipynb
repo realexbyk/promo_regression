{
 "cells": [
  {
   "cell_type": "code",
   "execution_count": 2,
   "metadata": {},
   "outputs": [],
   "source": [
    "import numpy as np\n",
    "import pandas as pd\n",
    "import seaborn as sns\n",
    "from sklearn.preprocessing import OneHotEncoder as SklearnOneHotEncoder\n",
    "from statsmodels.regression.linear_model import OLS"
   ]
  },
  {
   "cell_type": "markdown",
   "metadata": {},
   "source": [
    "### Using linear regression with dummy variables for promo testing\n",
    "\n",
    "\n",
    "\n",
    "Dependent variable - $Y$ - our target  for prediction - final check value\n",
    "\n",
    "Independet Variable - $X$ - the feature - (our promo)\n",
    "\n",
    "Promo is a categorical variable which we will transform into a dummy variable.\n",
    "\n",
    "${\\alpha}$ will represent a change (delta) in the average check.\n",
    "\n",
    "${\\beta}$ is just the average bill for all orders without promo.\n",
    "\n",
    "\n",
    "The main formula for linear regrission will be:\n",
    "$$\n",
    "Y = {\\alpha} * X + {\\beta}\n",
    "$$\n",
    "\n",
    "With dummy variable we need to re-write linear regression, because we want it to represent the expected value of Y at some value of X.  \n",
    "\n",
    "$$\n",
    "E[Y | X] = {\\alpha} * X + {\\beta}\n",
    "$$\n",
    "\n",
    "Also when using dummay variable for the promo, a purchase with a promo will be binary (with promo = 1, and without = 0).\n",
    "\n",
    "So when we bought something with a promo, X=1, and we multiply 1 by the check value. When X=0, our increase in check value ${\\alpha}$ is multiplied by 0, and at the end we have only ${\\beta}$.\n",
    "\n",
    "So in these cases the forimula from above will look like this: \n",
    "\n",
    "$$\n",
    "E[Y | X=1] = {\\alpha} + {\\beta}\n",
    "$$\n",
    "\n",
    "$$\n",
    "E[Y | X=0] = {\\beta}\n",
    "$$\n",
    "\n",
    "\n",
    "${\\beta}$ will essentially be the average of all checks without a promo. "
   ]
  },
  {
   "cell_type": "code",
   "execution_count": 56,
   "metadata": {
    "pycharm": {
     "name": "#%%\n"
    }
   },
   "outputs": [],
   "source": [
    "#Entire class to transform categorical feature into a dummy (binary) variable. \n",
    "#There is a standard OneHotEncoder in the sklearn.preprocessing but it will leave new columns without names,\n",
    "#so we have to make a new one \n",
    "class OneHotEncoder(SklearnOneHotEncoder):\n",
    "    def __init__(self, **kwargs):\n",
    "        super(OneHotEncoder, self).__init__(**kwargs)\n",
    "        self.fit_flag = False\n",
    "\n",
    "    def fit(self, X, **kwargs):\n",
    "        out = super().fit(X)\n",
    "        self.fit_flag = True\n",
    "        return out\n",
    "\n",
    "    def transform(self, X, **kwargs):\n",
    "        sparse_matrix = super(OneHotEncoder, self).transform(X)\n",
    "        new_columns = self.get_new_columns(X=X)\n",
    "        d_out = pd.DataFrame(sparse_matrix.toarray(), columns=new_columns, index=X.index)\n",
    "        return d_out\n",
    "\n",
    "    def fit_transform(self, X, **kwargs):\n",
    "        self.fit(X)\n",
    "        return self.transform(X)\n",
    "\n",
    "    def get_new_columns(self, X):\n",
    "        new_columns = []\n",
    "        for i, column in enumerate(X.columns):\n",
    "            j = 0\n",
    "            while j < len(self.categories_[i]):\n",
    "                new_columns.append(f'{column}_<{self.categories_[i][j]}>')\n",
    "                j += 1\n",
    "        return new_columns"
   ]
  },
  {
   "cell_type": "code",
   "execution_count": 57,
   "metadata": {},
   "outputs": [
    {
     "data": {
      "text/html": [
       "<div>\n",
       "<style scoped>\n",
       "    .dataframe tbody tr th:only-of-type {\n",
       "        vertical-align: middle;\n",
       "    }\n",
       "\n",
       "    .dataframe tbody tr th {\n",
       "        vertical-align: top;\n",
       "    }\n",
       "\n",
       "    .dataframe thead th {\n",
       "        text-align: right;\n",
       "    }\n",
       "</style>\n",
       "<table border=\"1\" class=\"dataframe\">\n",
       "  <thead>\n",
       "    <tr style=\"text-align: right;\">\n",
       "      <th></th>\n",
       "      <th>order_id</th>\n",
       "      <th>order_value</th>\n",
       "      <th>promo_type</th>\n",
       "    </tr>\n",
       "  </thead>\n",
       "  <tbody>\n",
       "    <tr>\n",
       "      <th>0</th>\n",
       "      <td>89014417</td>\n",
       "      <td>22</td>\n",
       "      <td>no_promo</td>\n",
       "    </tr>\n",
       "    <tr>\n",
       "      <th>1</th>\n",
       "      <td>89027235</td>\n",
       "      <td>37</td>\n",
       "      <td>no_promo</td>\n",
       "    </tr>\n",
       "    <tr>\n",
       "      <th>2</th>\n",
       "      <td>88979766</td>\n",
       "      <td>27</td>\n",
       "      <td>no_promo</td>\n",
       "    </tr>\n",
       "    <tr>\n",
       "      <th>3</th>\n",
       "      <td>89065392</td>\n",
       "      <td>30</td>\n",
       "      <td>no_promo</td>\n",
       "    </tr>\n",
       "    <tr>\n",
       "      <th>4</th>\n",
       "      <td>88992397</td>\n",
       "      <td>32</td>\n",
       "      <td>no_promo</td>\n",
       "    </tr>\n",
       "    <tr>\n",
       "      <th>5</th>\n",
       "      <td>89054226</td>\n",
       "      <td>25</td>\n",
       "      <td>no_promo</td>\n",
       "    </tr>\n",
       "    <tr>\n",
       "      <th>6</th>\n",
       "      <td>89019462</td>\n",
       "      <td>30</td>\n",
       "      <td>no_promo</td>\n",
       "    </tr>\n",
       "    <tr>\n",
       "      <th>7</th>\n",
       "      <td>89004871</td>\n",
       "      <td>25</td>\n",
       "      <td>no_promo</td>\n",
       "    </tr>\n",
       "    <tr>\n",
       "      <th>8</th>\n",
       "      <td>89040172</td>\n",
       "      <td>21</td>\n",
       "      <td>no_promo</td>\n",
       "    </tr>\n",
       "    <tr>\n",
       "      <th>9</th>\n",
       "      <td>89040144</td>\n",
       "      <td>31</td>\n",
       "      <td>no_promo</td>\n",
       "    </tr>\n",
       "    <tr>\n",
       "      <th>10</th>\n",
       "      <td>89011586</td>\n",
       "      <td>27</td>\n",
       "      <td>no_promo</td>\n",
       "    </tr>\n",
       "    <tr>\n",
       "      <th>11</th>\n",
       "      <td>89010120</td>\n",
       "      <td>12</td>\n",
       "      <td>no_promo</td>\n",
       "    </tr>\n",
       "    <tr>\n",
       "      <th>12</th>\n",
       "      <td>89062426</td>\n",
       "      <td>12</td>\n",
       "      <td>no_promo</td>\n",
       "    </tr>\n",
       "    <tr>\n",
       "      <th>13</th>\n",
       "      <td>89072723</td>\n",
       "      <td>19</td>\n",
       "      <td>no_promo</td>\n",
       "    </tr>\n",
       "    <tr>\n",
       "      <th>14</th>\n",
       "      <td>88981465</td>\n",
       "      <td>35</td>\n",
       "      <td>no_promo</td>\n",
       "    </tr>\n",
       "    <tr>\n",
       "      <th>15</th>\n",
       "      <td>89052139</td>\n",
       "      <td>34</td>\n",
       "      <td>no_promo</td>\n",
       "    </tr>\n",
       "    <tr>\n",
       "      <th>16</th>\n",
       "      <td>89007805</td>\n",
       "      <td>32</td>\n",
       "      <td>SALE15</td>\n",
       "    </tr>\n",
       "    <tr>\n",
       "      <th>17</th>\n",
       "      <td>89043442</td>\n",
       "      <td>29</td>\n",
       "      <td>no_promo</td>\n",
       "    </tr>\n",
       "    <tr>\n",
       "      <th>18</th>\n",
       "      <td>89060951</td>\n",
       "      <td>30</td>\n",
       "      <td>no_promo</td>\n",
       "    </tr>\n",
       "    <tr>\n",
       "      <th>19</th>\n",
       "      <td>89069655</td>\n",
       "      <td>23</td>\n",
       "      <td>no_promo</td>\n",
       "    </tr>\n",
       "  </tbody>\n",
       "</table>\n",
       "</div>"
      ],
      "text/plain": [
       "    order_id  order_value promo_type\n",
       "0   89014417           22   no_promo\n",
       "1   89027235           37   no_promo\n",
       "2   88979766           27   no_promo\n",
       "3   89065392           30   no_promo\n",
       "4   88992397           32   no_promo\n",
       "5   89054226           25   no_promo\n",
       "6   89019462           30   no_promo\n",
       "7   89004871           25   no_promo\n",
       "8   89040172           21   no_promo\n",
       "9   89040144           31   no_promo\n",
       "10  89011586           27   no_promo\n",
       "11  89010120           12   no_promo\n",
       "12  89062426           12   no_promo\n",
       "13  89072723           19   no_promo\n",
       "14  88981465           35   no_promo\n",
       "15  89052139           34   no_promo\n",
       "16  89007805           32     SALE15\n",
       "17  89043442           29   no_promo\n",
       "18  89060951           30   no_promo\n",
       "19  89069655           23   no_promo"
      ]
     },
     "execution_count": 57,
     "metadata": {},
     "output_type": "execute_result"
    }
   ],
   "source": [
    "df = pd.read_csv('one_promo_df.csv', index_col=[0])\n",
    "df.head(20)"
   ]
  },
  {
   "cell_type": "code",
   "execution_count": 58,
   "metadata": {},
   "outputs": [
    {
     "data": {
      "text/plain": [
       "array(['no_promo', 'SALE15'], dtype=object)"
      ]
     },
     "execution_count": 58,
     "metadata": {},
     "output_type": "execute_result"
    }
   ],
   "source": [
    "df.promo_type.unique()"
   ]
  },
  {
   "cell_type": "code",
   "execution_count": 59,
   "metadata": {
    "pycharm": {
     "name": "#%%\n"
    }
   },
   "outputs": [],
   "source": [
    "encoder = OneHotEncoder()\n"
   ]
  },
  {
   "cell_type": "code",
   "execution_count": 60,
   "metadata": {},
   "outputs": [
    {
     "data": {
      "text/html": [
       "<div>\n",
       "<style scoped>\n",
       "    .dataframe tbody tr th:only-of-type {\n",
       "        vertical-align: middle;\n",
       "    }\n",
       "\n",
       "    .dataframe tbody tr th {\n",
       "        vertical-align: top;\n",
       "    }\n",
       "\n",
       "    .dataframe thead th {\n",
       "        text-align: right;\n",
       "    }\n",
       "</style>\n",
       "<table border=\"1\" class=\"dataframe\">\n",
       "  <thead>\n",
       "    <tr style=\"text-align: right;\">\n",
       "      <th></th>\n",
       "      <th>promo_type_&lt;SALE15&gt;</th>\n",
       "      <th>promo_type_&lt;no_promo&gt;</th>\n",
       "    </tr>\n",
       "  </thead>\n",
       "  <tbody>\n",
       "    <tr>\n",
       "      <th>0</th>\n",
       "      <td>0.0</td>\n",
       "      <td>1.0</td>\n",
       "    </tr>\n",
       "    <tr>\n",
       "      <th>1</th>\n",
       "      <td>0.0</td>\n",
       "      <td>1.0</td>\n",
       "    </tr>\n",
       "    <tr>\n",
       "      <th>2</th>\n",
       "      <td>0.0</td>\n",
       "      <td>1.0</td>\n",
       "    </tr>\n",
       "    <tr>\n",
       "      <th>3</th>\n",
       "      <td>0.0</td>\n",
       "      <td>1.0</td>\n",
       "    </tr>\n",
       "    <tr>\n",
       "      <th>4</th>\n",
       "      <td>0.0</td>\n",
       "      <td>1.0</td>\n",
       "    </tr>\n",
       "    <tr>\n",
       "      <th>...</th>\n",
       "      <td>...</td>\n",
       "      <td>...</td>\n",
       "    </tr>\n",
       "    <tr>\n",
       "      <th>99995</th>\n",
       "      <td>0.0</td>\n",
       "      <td>1.0</td>\n",
       "    </tr>\n",
       "    <tr>\n",
       "      <th>99996</th>\n",
       "      <td>0.0</td>\n",
       "      <td>1.0</td>\n",
       "    </tr>\n",
       "    <tr>\n",
       "      <th>99997</th>\n",
       "      <td>0.0</td>\n",
       "      <td>1.0</td>\n",
       "    </tr>\n",
       "    <tr>\n",
       "      <th>99998</th>\n",
       "      <td>0.0</td>\n",
       "      <td>1.0</td>\n",
       "    </tr>\n",
       "    <tr>\n",
       "      <th>99999</th>\n",
       "      <td>0.0</td>\n",
       "      <td>1.0</td>\n",
       "    </tr>\n",
       "  </tbody>\n",
       "</table>\n",
       "<p>99969 rows × 2 columns</p>\n",
       "</div>"
      ],
      "text/plain": [
       "       promo_type_<SALE15>  promo_type_<no_promo>\n",
       "0                      0.0                    1.0\n",
       "1                      0.0                    1.0\n",
       "2                      0.0                    1.0\n",
       "3                      0.0                    1.0\n",
       "4                      0.0                    1.0\n",
       "...                    ...                    ...\n",
       "99995                  0.0                    1.0\n",
       "99996                  0.0                    1.0\n",
       "99997                  0.0                    1.0\n",
       "99998                  0.0                    1.0\n",
       "99999                  0.0                    1.0\n",
       "\n",
       "[99969 rows x 2 columns]"
      ]
     },
     "execution_count": 60,
     "metadata": {},
     "output_type": "execute_result"
    }
   ],
   "source": [
    "encoder.fit_transform(df[['promo_type']]) #getting new columns from the original promo_type column unique values"
   ]
  },
  {
   "cell_type": "markdown",
   "metadata": {},
   "source": [
    "We should drop promo_type_<no_promo> column because we'll a 3d coeficient (3d feature which won't give us anything new). If we keep it we will get alpha, beta (which is a free member) and a 3d unkown which will drag our linear regression.   "
   ]
  },
  {
   "cell_type": "code",
   "execution_count": 61,
   "metadata": {},
   "outputs": [],
   "source": [
    "#now we can assign our variables and drop no_promo column\n",
    "X = encoder.fit_transform(\n",
    "    df[['promo_type']])\\\n",
    "    .drop('promo_type_<no_promo>', axis=1)\\\n",
    "    .assign(aov=1)  #aov adds a free member coeficient of 1 into regression. OLS can't evaluate intercept if it's not added \n",
    "                    #(in sklearn fit intercept). So when aov = 1 \n",
    "\n",
    "Y = df['order_value']"
   ]
  },
  {
   "cell_type": "code",
   "execution_count": 62,
   "metadata": {},
   "outputs": [],
   "source": [
    "estimator = OLS(Y, X).fit()"
   ]
  },
  {
   "cell_type": "markdown",
   "metadata": {},
   "source": [
    "In linear regression we are testing the following:\n",
    "\n",
    "H0: that coeficient is equal to 0\n",
    "\n",
    "H1: coeficient is not = 0"
   ]
  },
  {
   "cell_type": "code",
   "execution_count": 63,
   "metadata": {
    "pycharm": {
     "name": "#%%\n"
    }
   },
   "outputs": [
    {
     "name": "stdout",
     "output_type": "stream",
     "text": [
      "                            OLS Regression Results                            \n",
      "==============================================================================\n",
      "Dep. Variable:            order_value   R-squared:                       0.000\n",
      "Model:                            OLS   Adj. R-squared:                  0.000\n",
      "Method:                 Least Squares   F-statistic:                     1.166\n",
      "Date:                Sun, 02 Oct 2022   Prob (F-statistic):              0.280\n",
      "Time:                        13:46:47   Log-Likelihood:            -3.5255e+05\n",
      "No. Observations:               99969   AIC:                         7.051e+05\n",
      "Df Residuals:                   99967   BIC:                         7.051e+05\n",
      "Df Model:                           1                                         \n",
      "Covariance Type:            nonrobust                                         \n",
      "=======================================================================================\n",
      "                          coef    std err          t      P>|t|      [0.025      0.975]\n",
      "---------------------------------------------------------------------------------------\n",
      "promo_type_<SALE15>    -0.0938      0.087     -1.080      0.280      -0.264       0.076\n",
      "aov                    29.4996      0.027   1075.409      0.000      29.446      29.553\n",
      "==============================================================================\n",
      "Omnibus:                       15.216   Durbin-Watson:                   2.006\n",
      "Prob(Omnibus):                  0.000   Jarque-Bera (JB):               15.630\n",
      "Skew:                           0.018   Prob(JB):                     0.000404\n",
      "Kurtosis:                       3.050   Cond. No.                         3.37\n",
      "==============================================================================\n",
      "\n",
      "Notes:\n",
      "[1] Standard Errors assume that the covariance matrix of the errors is correctly specified.\n"
     ]
    }
   ],
   "source": [
    "print(estimator.summary())"
   ]
  },
  {
   "cell_type": "markdown",
   "metadata": {
    "pycharm": {
     "name": "#%%\n"
    }
   },
   "source": [
    "Good thing about this linear regression is we don't need to look at MAPE, and don't need to maximize R^2. We only need to look at statistical significance of our coefficients: \n",
    "\n",
    "promo_type_SALE15 p-values is 0.28 which is much higher than our significance level, meaning we can't reject H0. So this coefficient is essentially = 0. Our dispersion is somewhat high and confidence interval includes 0 (-0.264 to 0.076). This means that promo has very low effect on the mean check value (which is good for us!). If we see an increase in in number of orders in total when we are offering this promo, we can say that this is a good promo because it increases number of orders but doesn't decrease (has very low effect) our mean order value. However, it is also possible that our promo is just used on a small amount of orders. \n",
    "    \n",
    "aov P-values is statistically significant meaning it is not a random feature."
   ]
  },
  {
   "cell_type": "markdown",
   "metadata": {
    "pycharm": {
     "name": "#%%\n"
    }
   },
   "source": [
    "-----------\n",
    "### What if we have multiple promos?"
   ]
  },
  {
   "cell_type": "code",
   "execution_count": 64,
   "metadata": {
    "pycharm": {
     "name": "#%%\n"
    }
   },
   "outputs": [
    {
     "data": {
      "text/html": [
       "<div>\n",
       "<style scoped>\n",
       "    .dataframe tbody tr th:only-of-type {\n",
       "        vertical-align: middle;\n",
       "    }\n",
       "\n",
       "    .dataframe tbody tr th {\n",
       "        vertical-align: top;\n",
       "    }\n",
       "\n",
       "    .dataframe thead th {\n",
       "        text-align: right;\n",
       "    }\n",
       "</style>\n",
       "<table border=\"1\" class=\"dataframe\">\n",
       "  <thead>\n",
       "    <tr style=\"text-align: right;\">\n",
       "      <th></th>\n",
       "      <th>gmv</th>\n",
       "      <th>title</th>\n",
       "      <th>delivery_discount</th>\n",
       "      <th>surge_increment</th>\n",
       "      <th>order_id</th>\n",
       "    </tr>\n",
       "  </thead>\n",
       "  <tbody>\n",
       "    <tr>\n",
       "      <th>0</th>\n",
       "      <td>22</td>\n",
       "      <td>SALE15</td>\n",
       "      <td>0</td>\n",
       "      <td>0</td>\n",
       "      <td>768977643</td>\n",
       "    </tr>\n",
       "    <tr>\n",
       "      <th>1</th>\n",
       "      <td>44</td>\n",
       "      <td>LUCKY</td>\n",
       "      <td>1</td>\n",
       "      <td>0</td>\n",
       "      <td>768977644</td>\n",
       "    </tr>\n",
       "    <tr>\n",
       "      <th>2</th>\n",
       "      <td>26</td>\n",
       "      <td>SUMMER</td>\n",
       "      <td>0</td>\n",
       "      <td>0</td>\n",
       "      <td>768977645</td>\n",
       "    </tr>\n",
       "    <tr>\n",
       "      <th>3</th>\n",
       "      <td>26</td>\n",
       "      <td>no_promo</td>\n",
       "      <td>0</td>\n",
       "      <td>0</td>\n",
       "      <td>768977646</td>\n",
       "    </tr>\n",
       "    <tr>\n",
       "      <th>4</th>\n",
       "      <td>39</td>\n",
       "      <td>no_promo</td>\n",
       "      <td>0</td>\n",
       "      <td>0</td>\n",
       "      <td>768977647</td>\n",
       "    </tr>\n",
       "  </tbody>\n",
       "</table>\n",
       "</div>"
      ],
      "text/plain": [
       "   gmv     title  delivery_discount  surge_increment   order_id\n",
       "0   22    SALE15                  0                0  768977643\n",
       "1   44     LUCKY                  1                0  768977644\n",
       "2   26    SUMMER                  0                0  768977645\n",
       "3   26  no_promo                  0                0  768977646\n",
       "4   39  no_promo                  0                0  768977647"
      ]
     },
     "execution_count": 64,
     "metadata": {},
     "output_type": "execute_result"
    }
   ],
   "source": [
    "df_multi = pd.read_csv('multiple_promo_df.csv', index_col=[0])\n",
    "df_multi.head()"
   ]
  },
  {
   "cell_type": "markdown",
   "metadata": {},
   "source": [
    "gmv - order value\n",
    "\n",
    "title - promo code\n",
    "\n",
    "delivery_discount - wheather ther is or no discount on delivery\n",
    "\n",
    "surge_increment - this is when our delivery cost increased \n",
    "\n",
    "order_id - self-explanatory"
   ]
  },
  {
   "cell_type": "code",
   "execution_count": 65,
   "metadata": {
    "pycharm": {
     "name": "#%%\n"
    }
   },
   "outputs": [
    {
     "data": {
      "text/plain": [
       "0.5904545516019529"
      ]
     },
     "execution_count": 65,
     "metadata": {},
     "output_type": "execute_result"
    }
   ],
   "source": [
    "df_multi.query('title == \"no_promo\"').shape[0] / df_multi.shape[0]"
   ]
  },
  {
   "cell_type": "markdown",
   "metadata": {},
   "source": [
    "59% of orders have no promotions, and therefore 41% with"
   ]
  },
  {
   "cell_type": "code",
   "execution_count": 66,
   "metadata": {},
   "outputs": [
    {
     "data": {
      "text/html": [
       "<div>\n",
       "<style scoped>\n",
       "    .dataframe tbody tr th:only-of-type {\n",
       "        vertical-align: middle;\n",
       "    }\n",
       "\n",
       "    .dataframe tbody tr th {\n",
       "        vertical-align: top;\n",
       "    }\n",
       "\n",
       "    .dataframe thead th {\n",
       "        text-align: right;\n",
       "    }\n",
       "</style>\n",
       "<table border=\"1\" class=\"dataframe\">\n",
       "  <thead>\n",
       "    <tr style=\"text-align: right;\">\n",
       "      <th></th>\n",
       "      <th>title_&lt;LUCKY&gt;</th>\n",
       "      <th>title_&lt;SALE15&gt;</th>\n",
       "      <th>title_&lt;SORRY&gt;</th>\n",
       "      <th>title_&lt;SUMMER&gt;</th>\n",
       "      <th>title_&lt;TAKE30&gt;</th>\n",
       "      <th>title_&lt;WINTER&gt;</th>\n",
       "      <th>title_&lt;no_promo&gt;</th>\n",
       "    </tr>\n",
       "  </thead>\n",
       "  <tbody>\n",
       "    <tr>\n",
       "      <th>0</th>\n",
       "      <td>0.0</td>\n",
       "      <td>1.0</td>\n",
       "      <td>0.0</td>\n",
       "      <td>0.0</td>\n",
       "      <td>0.0</td>\n",
       "      <td>0.0</td>\n",
       "      <td>0.0</td>\n",
       "    </tr>\n",
       "    <tr>\n",
       "      <th>1</th>\n",
       "      <td>1.0</td>\n",
       "      <td>0.0</td>\n",
       "      <td>0.0</td>\n",
       "      <td>0.0</td>\n",
       "      <td>0.0</td>\n",
       "      <td>0.0</td>\n",
       "      <td>0.0</td>\n",
       "    </tr>\n",
       "    <tr>\n",
       "      <th>2</th>\n",
       "      <td>0.0</td>\n",
       "      <td>0.0</td>\n",
       "      <td>0.0</td>\n",
       "      <td>1.0</td>\n",
       "      <td>0.0</td>\n",
       "      <td>0.0</td>\n",
       "      <td>0.0</td>\n",
       "    </tr>\n",
       "  </tbody>\n",
       "</table>\n",
       "</div>"
      ],
      "text/plain": [
       "   title_<LUCKY>  title_<SALE15>  title_<SORRY>  title_<SUMMER>  \\\n",
       "0            0.0             1.0            0.0             0.0   \n",
       "1            1.0             0.0            0.0             0.0   \n",
       "2            0.0             0.0            0.0             1.0   \n",
       "\n",
       "   title_<TAKE30>  title_<WINTER>  title_<no_promo>  \n",
       "0             0.0             0.0               0.0  \n",
       "1             0.0             0.0               0.0  \n",
       "2             0.0             0.0               0.0  "
      ]
     },
     "execution_count": 66,
     "metadata": {},
     "output_type": "execute_result"
    }
   ],
   "source": [
    "encoder.fit_transform(df_multi[['title']]).head(3)"
   ]
  },
  {
   "cell_type": "code",
   "execution_count": 67,
   "metadata": {},
   "outputs": [],
   "source": [
    "#again we don't need the title_<no_promo> column because it doesn't add anything new (you can derive it from all other columns)"
   ]
  },
  {
   "cell_type": "code",
   "execution_count": 68,
   "metadata": {},
   "outputs": [],
   "source": [
    "Ym = df_multi['gmv']\n",
    "\n",
    "Xm = encoder.fit_transform(df_multi[['title']])\\\n",
    "    .drop('title_<no_promo>', axis=1)\\\n",
    "    .assign(aov=1)\n",
    "\n",
    "Xm['delivery_discount'] = df_multi['delivery_discount']\n",
    "Xm['surge_increment'] = df_multi['surge_increment']"
   ]
  },
  {
   "cell_type": "code",
   "execution_count": 69,
   "metadata": {},
   "outputs": [
    {
     "data": {
      "text/html": [
       "<div>\n",
       "<style scoped>\n",
       "    .dataframe tbody tr th:only-of-type {\n",
       "        vertical-align: middle;\n",
       "    }\n",
       "\n",
       "    .dataframe tbody tr th {\n",
       "        vertical-align: top;\n",
       "    }\n",
       "\n",
       "    .dataframe thead th {\n",
       "        text-align: right;\n",
       "    }\n",
       "</style>\n",
       "<table border=\"1\" class=\"dataframe\">\n",
       "  <thead>\n",
       "    <tr style=\"text-align: right;\">\n",
       "      <th></th>\n",
       "      <th>title_&lt;LUCKY&gt;</th>\n",
       "      <th>title_&lt;SALE15&gt;</th>\n",
       "      <th>title_&lt;SORRY&gt;</th>\n",
       "      <th>title_&lt;SUMMER&gt;</th>\n",
       "      <th>title_&lt;TAKE30&gt;</th>\n",
       "      <th>title_&lt;WINTER&gt;</th>\n",
       "      <th>aov</th>\n",
       "      <th>delivery_discount</th>\n",
       "      <th>surge_increment</th>\n",
       "    </tr>\n",
       "  </thead>\n",
       "  <tbody>\n",
       "    <tr>\n",
       "      <th>0</th>\n",
       "      <td>0.0</td>\n",
       "      <td>1.0</td>\n",
       "      <td>0.0</td>\n",
       "      <td>0.0</td>\n",
       "      <td>0.0</td>\n",
       "      <td>0.0</td>\n",
       "      <td>1</td>\n",
       "      <td>0</td>\n",
       "      <td>0</td>\n",
       "    </tr>\n",
       "    <tr>\n",
       "      <th>1</th>\n",
       "      <td>1.0</td>\n",
       "      <td>0.0</td>\n",
       "      <td>0.0</td>\n",
       "      <td>0.0</td>\n",
       "      <td>0.0</td>\n",
       "      <td>0.0</td>\n",
       "      <td>1</td>\n",
       "      <td>1</td>\n",
       "      <td>0</td>\n",
       "    </tr>\n",
       "    <tr>\n",
       "      <th>2</th>\n",
       "      <td>0.0</td>\n",
       "      <td>0.0</td>\n",
       "      <td>0.0</td>\n",
       "      <td>1.0</td>\n",
       "      <td>0.0</td>\n",
       "      <td>0.0</td>\n",
       "      <td>1</td>\n",
       "      <td>0</td>\n",
       "      <td>0</td>\n",
       "    </tr>\n",
       "    <tr>\n",
       "      <th>3</th>\n",
       "      <td>0.0</td>\n",
       "      <td>0.0</td>\n",
       "      <td>0.0</td>\n",
       "      <td>0.0</td>\n",
       "      <td>0.0</td>\n",
       "      <td>0.0</td>\n",
       "      <td>1</td>\n",
       "      <td>0</td>\n",
       "      <td>0</td>\n",
       "    </tr>\n",
       "    <tr>\n",
       "      <th>4</th>\n",
       "      <td>0.0</td>\n",
       "      <td>0.0</td>\n",
       "      <td>0.0</td>\n",
       "      <td>0.0</td>\n",
       "      <td>0.0</td>\n",
       "      <td>0.0</td>\n",
       "      <td>1</td>\n",
       "      <td>0</td>\n",
       "      <td>0</td>\n",
       "    </tr>\n",
       "  </tbody>\n",
       "</table>\n",
       "</div>"
      ],
      "text/plain": [
       "   title_<LUCKY>  title_<SALE15>  title_<SORRY>  title_<SUMMER>  \\\n",
       "0            0.0             1.0            0.0             0.0   \n",
       "1            1.0             0.0            0.0             0.0   \n",
       "2            0.0             0.0            0.0             1.0   \n",
       "3            0.0             0.0            0.0             0.0   \n",
       "4            0.0             0.0            0.0             0.0   \n",
       "\n",
       "   title_<TAKE30>  title_<WINTER>  aov  delivery_discount  surge_increment  \n",
       "0             0.0             0.0    1                  0                0  \n",
       "1             0.0             0.0    1                  1                0  \n",
       "2             0.0             0.0    1                  0                0  \n",
       "3             0.0             0.0    1                  0                0  \n",
       "4             0.0             0.0    1                  0                0  "
      ]
     },
     "execution_count": 69,
     "metadata": {},
     "output_type": "execute_result"
    }
   ],
   "source": [
    "Xm.head(5)"
   ]
  },
  {
   "cell_type": "code",
   "execution_count": 70,
   "metadata": {},
   "outputs": [
    {
     "data": {
      "text/plain": [
       "0    22\n",
       "1    44\n",
       "2    26\n",
       "3    26\n",
       "4    39\n",
       "Name: gmv, dtype: int64"
      ]
     },
     "execution_count": 70,
     "metadata": {},
     "output_type": "execute_result"
    }
   ],
   "source": [
    "Ym.head(5)"
   ]
  },
  {
   "cell_type": "code",
   "execution_count": 71,
   "metadata": {},
   "outputs": [],
   "source": [
    "estimator_multi = OLS(Ym, Xm).fit()"
   ]
  },
  {
   "cell_type": "code",
   "execution_count": 72,
   "metadata": {},
   "outputs": [
    {
     "name": "stdout",
     "output_type": "stream",
     "text": [
      "                            OLS Regression Results                            \n",
      "==============================================================================\n",
      "Dep. Variable:                    gmv   R-squared:                       0.058\n",
      "Model:                            OLS   Adj. R-squared:                  0.058\n",
      "Method:                 Least Squares   F-statistic:                     2844.\n",
      "Date:                Sun, 02 Oct 2022   Prob (F-statistic):               0.00\n",
      "Time:                        13:46:58   Log-Likelihood:            -1.3137e+06\n",
      "No. Observations:              369705   AIC:                         2.627e+06\n",
      "Df Residuals:                  369696   BIC:                         2.628e+06\n",
      "Df Model:                           8                                         \n",
      "Covariance Type:            nonrobust                                         \n",
      "=====================================================================================\n",
      "                        coef    std err          t      P>|t|      [0.025      0.975]\n",
      "-------------------------------------------------------------------------------------\n",
      "title_<LUCKY>        -4.7214      0.055    -86.588      0.000      -4.828      -4.615\n",
      "title_<SALE15>       -3.3930      0.042    -80.113      0.000      -3.476      -3.310\n",
      "title_<SORRY>        -2.2311      0.130    -17.203      0.000      -2.485      -1.977\n",
      "title_<SUMMER>       -2.6650      0.044    -61.168      0.000      -2.750      -2.580\n",
      "title_<TAKE30>       -6.8097      0.088    -77.495      0.000      -6.982      -6.638\n",
      "title_<WINTER>       -4.7933      0.069    -69.641      0.000      -4.928      -4.658\n",
      "aov                  31.5263      0.019   1661.272      0.000      31.489      31.564\n",
      "delivery_discount    -2.0326      0.043    -47.626      0.000      -2.116      -1.949\n",
      "surge_increment       0.8302      0.082     10.149      0.000       0.670       0.991\n",
      "==============================================================================\n",
      "Omnibus:                       42.868   Durbin-Watson:                   1.998\n",
      "Prob(Omnibus):                  0.000   Jarque-Bera (JB):               42.878\n",
      "Skew:                           0.026   Prob(JB):                     4.89e-10\n",
      "Kurtosis:                       3.002   Cond. No.                         9.62\n",
      "==============================================================================\n",
      "\n",
      "Notes:\n",
      "[1] Standard Errors assume that the covariance matrix of the errors is correctly specified.\n"
     ]
    }
   ],
   "source": [
    "print(estimator_multi.summary())"
   ]
  },
  {
   "cell_type": "markdown",
   "metadata": {},
   "source": [
    "Here we see that for all features p-value is 0.00 and is statistically significant. \n",
    "\n",
    "We can see that all promos lower the average check value. Sometimes it's ok. We can see that for example for SALE15 code our average order value dropped by USD3.39 which is less than expected USD4.465 (see below). So it's a decent promo. Meaning we a gaining USD1.075 from this promo on each order.\n",
    "On average we also give USD2 discount for delivery, and our delivery price surges by USD0.83."
   ]
  },
  {
   "cell_type": "code",
   "execution_count": 76,
   "metadata": {},
   "outputs": [
    {
     "data": {
      "text/plain": [
       "4.465749178398994"
      ]
     },
     "execution_count": 76,
     "metadata": {},
     "output_type": "execute_result"
    }
   ],
   "source": [
    "#Our average 15% discount should be around $4.46\n",
    "Ym.mean() * 0.15"
   ]
  },
  {
   "cell_type": "code",
   "execution_count": null,
   "metadata": {},
   "outputs": [],
   "source": []
  }
 ],
 "metadata": {
  "kernelspec": {
   "display_name": "Python 3",
   "language": "python",
   "name": "python3"
  },
  "language_info": {
   "codemirror_mode": {
    "name": "ipython",
    "version": 3
   },
   "file_extension": ".py",
   "mimetype": "text/x-python",
   "name": "python",
   "nbconvert_exporter": "python",
   "pygments_lexer": "ipython3",
   "version": "3.7.3"
  }
 },
 "nbformat": 4,
 "nbformat_minor": 1
}
